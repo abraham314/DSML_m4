{
 "cells": [
  {
   "cell_type": "code",
   "execution_count": 1,
   "metadata": {},
   "outputs": [],
   "source": [
    "import numpy as np\n",
    "import matplotlib.pyplot as plt\n",
    "from sklearn.linear_model import LinearRegression\n",
    "from sklearn.preprocessing import PolynomialFeatures\n",
    "from sklearn.pipeline import Pipeline\n",
    "from ipywidgets import interact, interactive, fixed, interact_manual,IntSlider\n",
    "from sklearn.metrics import mean_squared_error"
   ]
  },
  {
   "cell_type": "code",
   "execution_count": 8,
   "metadata": {},
   "outputs": [],
   "source": [
    "X_train=np.linspace(-1,1,100)+np.random.uniform(size=100)\n",
    "X_test=np.linspace(-1,1,100)\n",
    "def y_make(X):\n",
    "    n_inputs=len(X)\n",
    "    y=np.random.randn(n_inputs)*.8+np.sin(6+3*X-5*X**2+2.4*X**3+X**4+7*X**5)\n",
    "    return(y)\n",
    "y_train=y_make(X_train)\n",
    "y_test=y_make(X_test)"
   ]
  },
  {
   "cell_type": "code",
   "execution_count": 9,
   "metadata": {},
   "outputs": [],
   "source": [
    "def pip(g,X,y,Xt,yt):\n",
    "    X=X.reshape(-1,1)\n",
    "    y=y.reshape(-1,1)\n",
    "    Xt=Xt.reshape(-1,1)\n",
    "    yt=yt.reshape(-1,1)\n",
    "    pipe=Pipeline([(\"poly\",PolynomialFeatures(degree=g,include_bias=False)),\n",
    "              (\"Linreg\",LinearRegression())\n",
    "              ])\n",
    "    pipe.fit(X,y)\n",
    "    ytr=pipe.predict(X)\n",
    "    yhat=pipe.predict(Xt)\n",
    "    \n",
    "    return(ytr,mean_squared_error(y,ytr),yhat,mean_squared_error(yt,yhat))"
   ]
  },
  {
   "cell_type": "code",
   "execution_count": 10,
   "metadata": {},
   "outputs": [],
   "source": [
    "yhr,mser,yh,mse=pip(3,X_train,y_train,X_test,y_test)"
   ]
  },
  {
   "cell_type": "code",
   "execution_count": null,
   "metadata": {},
   "outputs": [],
   "source": []
  },
  {
   "cell_type": "code",
   "execution_count": 11,
   "metadata": {},
   "outputs": [],
   "source": [
    "def grafit(g,X,y,Xt,yt):\n",
    "    fig,ax=plt.subplots(1,2,figsize=(15, 7))\n",
    "    yhr,mser,yh,mse=pip(g,X_train,y_train,X_test,y_test)\n",
    "    ax[0].scatter(X_train,y_train)\n",
    "    ax[0].plot(X_train,yhr,color=\"r\")\n",
    "    ax[0].set_title(f\"MSE_TRAIN es: {np.round(mser,2)}\")\n",
    "    ax[0].grid()\n",
    "    ax[1].scatter(X_test,y_test)\n",
    "    ax[1].plot(X_test,yh,color=\"r\")\n",
    "    ax[1].set_title(f\"MSE_TEST es: {np.round(mse,2)}\")\n",
    "    ax[1].grid()"
   ]
  },
  {
   "cell_type": "code",
   "execution_count": 12,
   "metadata": {},
   "outputs": [],
   "source": [
    "#grafit(3,X_train,y_train,X_test,y_test)"
   ]
  },
  {
   "cell_type": "code",
   "execution_count": 13,
   "metadata": {},
   "outputs": [
    {
     "data": {
      "application/vnd.jupyter.widget-view+json": {
       "model_id": "4835ee67e8474e7abaedb4ffe1343532",
       "version_major": 2,
       "version_minor": 0
      },
      "text/plain": [
       "interactive(children=(IntSlider(value=1, description='g', max=20, min=1), Output()), _dom_classes=('widget-int…"
      ]
     },
     "metadata": {},
     "output_type": "display_data"
    },
    {
     "data": {
      "text/plain": [
       "<function __main__.grafit(g, X, y, Xt, yt)>"
      ]
     },
     "execution_count": 13,
     "metadata": {},
     "output_type": "execute_result"
    }
   ],
   "source": [
    "interact(grafit,g=IntSlider(min=1,max=20,step=1),X=fixed(X_train),y=fixed(y_train),Xt=fixed(X_test),yt=fixed(y_test))"
   ]
  },
  {
   "cell_type": "markdown",
   "metadata": {},
   "source": [
    "# Derivando minimos cuadrados"
   ]
  },
  {
   "cell_type": "markdown",
   "metadata": {},
   "source": [
    "$$\n",
    "    \\begin{align}\n",
    "        \\frac{1}{2}(W^TXX^TW - 2W^T Xy + y^Ty) \\\\\n",
    "        &= d(W) \\frac{1}{2}(W^TXX^T - 2W^T Xy) + d(W) y^Ty \\\\\n",
    "        &= \\frac{1}{2} (2 XX^TW -  2 Xy)\\\\\n",
    "        &= XX^TW - Xy\n",
    "        => XX^TW = Xy\n",
    "        =>W*=(XX^T)^-1Xy\n",
    "    \\end{align}\n",
    "$$"
   ]
  },
  {
   "cell_type": "markdown",
   "metadata": {},
   "source": []
  },
  {
   "cell_type": "code",
   "execution_count": null,
   "metadata": {},
   "outputs": [],
   "source": []
  }
 ],
 "metadata": {
  "kernelspec": {
   "display_name": "Python 3",
   "language": "python",
   "name": "python3"
  },
  "language_info": {
   "codemirror_mode": {
    "name": "ipython",
    "version": 3
   },
   "file_extension": ".py",
   "mimetype": "text/x-python",
   "name": "python",
   "nbconvert_exporter": "python",
   "pygments_lexer": "ipython3",
   "version": "3.7.3"
  }
 },
 "nbformat": 4,
 "nbformat_minor": 4
}
