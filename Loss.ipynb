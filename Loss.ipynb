{
 "cells": [
  {
   "cell_type": "markdown",
   "metadata": {},
   "source": [
    "# Demostrar\n",
    "$\\mathbb{E}[L]=\\int\\{y(\\mathbf{x}|D)-\\mathbb{E}[t | \\mathbf{x}]\\}^{2}+V_{t}[t | \\mathbf{x}]p(\\mathbf{x}) \\mathrm{d} \\mathbf{x}$"
   ]
  },
  {
   "cell_type": "markdown",
   "metadata": {},
   "source": [
    "sabemos que:\n",
    "\n",
    "$\\mathbb{E}[L]=\\iint L(t, y(\\mathbf{x})) p(\\mathbf{x}, t) \\mathrm{d} \\mathbf{x} \\mathrm{d} t$"
   ]
  },
  {
   "cell_type": "markdown",
   "metadata": {},
   "source": [
    "y si tomamos $L(t, y(\\mathbf{x}))=\\{y(\\mathbf{x})-t\\}^{2}$ entonces: "
   ]
  },
  {
   "cell_type": "markdown",
   "metadata": {},
   "source": [
    "$\\mathbb{E}[L]=\\iint\\{y(\\mathbf{x})-t\\}^{2} p(\\mathbf{x}, t) \\mathrm{d} \\mathbf{x} \\mathrm{d} t$"
   ]
  },
  {
   "cell_type": "markdown",
   "metadata": {},
   "source": [
    "Ahora veamos que...\n",
    "\n",
    "$\\{y(\\mathbf{x})-t\\}^{2}=\\{y(\\mathbf{x})-\\mathbb{E}[t | \\mathbf{x}]+\\mathbb{E}[t | \\mathbf{x}]-t\\}^{2}$\n",
    "$\\quad=\\{y(\\mathbf{x})-\\mathbb{E}[t | \\mathbf{x}]\\}^{2}+2\\{y(\\mathbf{x})-\\mathbb{E}[t | \\mathbf{x}]\\}\\{\\mathbb{E}[t | \\mathbf{x}]-t\\}+\\{\\mathbb{E}[t | \\mathbf{x}]-t\\}^{2}$"
   ]
  },
  {
   "cell_type": "markdown",
   "metadata": {},
   "source": [
    "por tanto..\n",
    "\n",
    "$\\iint\\{y(\\mathbf{x})-\\mathbb{E}[t | \\mathbf{x}]\\}^{2}+2\\{y(\\mathbf{x})-\\mathbb{E}[t | \\mathbf{x}]\\}\\{\\mathbb{E}[t | \\mathbf{x}]-t\\}+\\{\\mathbb{E}[t | \\mathbf{x}]-t\\}^{2} p(x,t) dxdt$\n",
    "\n",
    "$\\implies (\\iint\\{y(\\mathbf{x})-\\mathbb{E}[t | \\mathbf{x}]\\}^{2}+\\{\\mathbb{E}[t | \\mathbf{x}]-t\\}^{2}) p(x)dt+ 2\\iint\\{y(\\mathbf{x})-\\mathbb{E}[t | \\mathbf{x}]\\}\\{\\mathbb{E}[t | \\mathbf{x}]-t\\} p(x,t) dxdt$"
   ]
  },
  {
   "cell_type": "markdown",
   "metadata": {},
   "source": [
    "si sustituimos $g(x)=(y(x)-\\mathbb{E}[t | \\mathbf{x}])$\n",
    "\n",
    "entonces tenemos que $2\\iint\\{y(\\mathbf{x})-\\mathbb{E}[t | \\mathbf{x}]\\}\\{\\mathbb{E}[t | \\mathbf{x}]-t\\} p(x)dt$"
   ]
  },
  {
   "cell_type": "markdown",
   "metadata": {},
   "source": [
    "$=2\\iint g(x) (E[t|x]-t) p(x)dt = 2E(g(x) (E[t|x]-t)|x)=$"
   ]
  },
  {
   "cell_type": "markdown",
   "metadata": {},
   "source": [
    "$\\int \\mathbb{E}[g(x)(\\mathbb{E}[t|x]-t)\\mid x]$\n",
    "\n",
    "$=\\int g(x){E}[\\mathbb{E}[t|x]-t]\\mid x]$\n",
    "\n",
    "$=\\int g(x)\\left(\\mathbb{E}[\\mathbb{E}[t|x]\\mid x]-\\mathbb{E}[t\\mid x]\\right)$\n",
    "\n",
    "$=\\int g(x)\\left(\\mathbb{E}[t|x]-\\mathbb{E}[t|x]\\right)$\n",
    "\n",
    "$=0$"
   ]
  },
  {
   "cell_type": "markdown",
   "metadata": {},
   "source": [
    "**Entonces dado lo anterior tenemos que..**\n",
    "\n",
    "$\\mathbb{E}[L]=\\iint\\{y(\\mathbf{x})-t\\}^{2} p(\\mathbf{x}, t) \\mathrm{d} \\mathbf{x} \\mathrm{d} t= (\\iint\\{y(\\mathbf{x})-\\mathbb{E}[t | \\mathbf{x}]\\}^{2}+\\{\\mathbb{E}[t | \\mathbf{x}]-t\\}^{2}) p(x,t) dxdt$"
   ]
  },
  {
   "cell_type": "markdown",
   "metadata": {},
   "source": [
    "Ahora analizando $\\iint (\\mathbb{E} [t|x]-t)^{2} p(x,t) dxdt$"
   ]
  },
  {
   "cell_type": "markdown",
   "metadata": {},
   "source": [
    "$=\\mathbb{E}_{x,t}[(\\mathbb{E}[t|x]-t)^{2}]$ \n",
    "\n",
    "$= \\mathbb{E}_x[ \\mathbb{E}_t[(\\mathbb{E}_t[t|x]-t)^{2} | x] ]$\n",
    "\n",
    "$= \\mathbb{E}_x[\\operatorname{var}_t[t|x]]$\n",
    "\n",
    "$=\\int [\\operatorname{var}_t[t|x]]$\n",
    "\n",
    "este ultimo se da dado esta propiedad:\n",
    "\n",
    "$\\operatorname{var}_t[t|x] = \\int_t{(t - \\mathbb{E}_t[t|x])^2p(t|x)\\mathop{dt}} = \\mathbb{E}_t[(t - \\mathbb{E}_t[t|x])^2 | x] \\tag{3}\\label{3}$"
   ]
  },
  {
   "cell_type": "markdown",
   "metadata": {},
   "source": [
    "y finalmente analizamos la expresion \n",
    "\n",
    "$\\iint\\{y(\\mathbf{x})-\\mathbb{E}[t | \\mathbf{x}]\\}^{2}$"
   ]
  },
  {
   "cell_type": "markdown",
   "metadata": {},
   "source": [
    "$= \\mathbb{E}_{x,t}[(y(x) - \\mathbb{E}_t[t|x])^{2}]$\n",
    "\n",
    "$= \\mathbb{E}_x[ \\mathbb{E}_t[(y(x) - \\mathbb{E}_t[t|x])^{2} | x]  ]$\n",
    "\n",
    "$= \\mathbb{E}_x[(y(x) - \\mathbb{E}_t[t|x] )^{2}]$\n",
    "\n",
    "$= \\int [(y(x) - \\mathbb{E}_t[t|x] )^{2}]$"
   ]
  },
  {
   "cell_type": "markdown",
   "metadata": {},
   "source": [
    "por tanto tenemos que: \n",
    "\n",
    "$(\\iint\\{y(\\mathbf{x})-\\mathbb{E}[t | \\mathbf{x}]\\}^{2}+\\{\\mathbb{E}[t | \\mathbf{x}]-t\\}^{2}) p(x,t) dxdt$\n",
    "\n",
    "$=\\int [(y(x) - \\mathbb{E}_t[t|x] )^{2}]+[\\operatorname{var}_t[t|x]] p(x) dx$"
   ]
  },
  {
   "cell_type": "markdown",
   "metadata": {},
   "source": [
    "queda demostrado..."
   ]
  }
 ],
 "metadata": {
  "kernelspec": {
   "display_name": "Python 3",
   "language": "python",
   "name": "python3"
  },
  "language_info": {
   "codemirror_mode": {
    "name": "ipython",
    "version": 3
   },
   "file_extension": ".py",
   "mimetype": "text/x-python",
   "name": "python",
   "nbconvert_exporter": "python",
   "pygments_lexer": "ipython3",
   "version": "3.7.4"
  }
 },
 "nbformat": 4,
 "nbformat_minor": 4
}
